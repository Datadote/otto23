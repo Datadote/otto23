{
 "cells": [
  {
   "cell_type": "code",
   "execution_count": 1,
   "id": "072f7899",
   "metadata": {},
   "outputs": [],
   "source": [
    "\"\"\"\n",
    "03-26-23 - Moved get_recall into otto_utils.py\n",
    "03-21-23 - Moved covisit preprocessing into function\n",
    "         - Created test_aids_types.pkl file so we load instead of process\n",
    "03-20-23 - Removed LGBM code\n",
    "03-18-23 - Created separate val data in pkl dictionary\n",
    "         - Now uniformly sampled across the week instead of chronologically\n",
    "03-17-23 - Couldn't get starmap or partial+map to work faster than orig method\n",
    "03-17-23 - Moved covisit code into otto_utils.py\n",
    "03-16-23 - Make covisit preprocess indep func.\n",
    "\"\"\";"
   ]
  },
  {
   "cell_type": "code",
   "execution_count": 2,
   "id": "bc37ce8d",
   "metadata": {},
   "outputs": [
    {
     "name": "stdout",
     "output_type": "stream",
     "text": [
      "INFO: Pandarallel will run on 8 workers.\n",
      "INFO: Pandarallel will use Memory file system to transfer data between the main process and workers.\n"
     ]
    }
   ],
   "source": [
    "import os\n",
    "from collections import Counter\n",
    "import warnings\n",
    "\n",
    "import pandas as pd\n",
    "import numpy as np\n",
    "from pandarallel import pandarallel\n",
    "from otto_utils import trange, preprocess_covisits, get_preds, get_recall\n",
    "\n",
    "pandarallel.initialize(progress_bar=False)\n",
    "warnings.filterwarnings('ignore')"
   ]
  },
  {
   "cell_type": "code",
   "execution_count": 3,
   "id": "4a2fabf9",
   "metadata": {},
   "outputs": [],
   "source": [
    "# Keeping suggests in main notebook for speed. Tried moving to utils.py, but\n",
    "# could not match equivalent speed. Funcs need top_20_clicks/buys/buy2buy\n",
    "def suggest_clicks(event, num_cands=20, type_weights1={0: 0.5, 1: 9, 2:0.5}):\n",
    "    \"\"\" Get click suggestions, uses top_20_clicks & popul_20_clicks \"\"\"\n",
    "    aids, types = event\n",
    "    unique_aids = list(dict.fromkeys(aids[::-1]))\n",
    "    # RERANK CANDIDATES USING WEIGHTS\n",
    "    if len(unique_aids) >= num_cands:\n",
    "        time_weights = np.logspace(0.1,1,len(aids),base=2, endpoint=True)-1\n",
    "        aids_temp = {}\n",
    "        # RERANK BASED ON REPEAT ITEMS AND TYPE OF ITEMS\n",
    "        for time_w, aid, type_aid in zip(time_weights, aids, types):\n",
    "            type_w = type_weights1[type_aid]\n",
    "            aids_temp[aid] = aids_temp.get(aid, 0) + time_w*type_w\n",
    "        sorted_aids = [k for k,v in sorted(aids_temp.items(), key=lambda x: x[1], reverse=True)]\n",
    "        return sorted_aids[:num_cands]\n",
    "    # USE \"CLICKS\" CO-VISITATION MATRIX\n",
    "    candidates = []\n",
    "    for aid in unique_aids: # most recent AID is first here\n",
    "        if aid in top_20_clicks:\n",
    "            candidates.extend(top_20_clicks[aid])\n",
    "    # RERANK CANDIDATES\n",
    "    top_candidates = []\n",
    "    for candidate, _ in Counter(candidates).most_common(num_cands):\n",
    "        if candidate not in unique_aids:\n",
    "            top_candidates.append(candidate)\n",
    "    result = unique_aids + top_candidates[:num_cands-len(unique_aids)]\n",
    "    set_result = set(result)\n",
    "    result += [i for i in popul_20_clicks if i not in set_result][:num_cands - len(result)]\n",
    "    return result\n",
    "\n",
    "def suggest_carts(event, num_cands=20, type_weights1={0: 0.5, 1: 9, 2:0.5}):\n",
    "    \"\"\" Get carts & orders suggestions, uses top_20_clicks/buys/buy2buy & popul_20_carts \"\"\"\n",
    "    aids, types = event\n",
    "    unique_aids = list(dict.fromkeys(aids[::-1])) # \"\"\"\"\"\"\n",
    "    unique_buys = [aid for aid, typ in zip(aids, types) if typ<2][::-1]\n",
    "    unique_buys = list(dict.fromkeys(unique_buys)) # idx=0 = most recent\n",
    "    # RERANK CANDIDATES USING WEIGHTS\n",
    "    if len(unique_aids) >= 20: # \"\"\"\"\"\"\n",
    "        time_weights=np.logspace(0.5,1,len(aids),base=2, endpoint=True)-1\n",
    "        aids_temp = {}\n",
    "        # RERANK BASED ON REPEAT ITEMS AND TYPE OF ITEMS\n",
    "        for time_w, aid, type_aid in zip(time_weights, aids, types):\n",
    "            type_w = type_weights1[type_aid]\n",
    "            aids_temp[aid] = aids_temp.get(aid, 0) + time_w*type_w\n",
    "        # RERANK CANDIDATES USING \"BUYS\" CO-VISITATION MATRIX\n",
    "        candidates = []\n",
    "        for aid in unique_buys: #\"\"\"weight top 20 buys from covisit matrix\"\"\"\n",
    "            if aid in top_20_buys:\n",
    "                candidates.extend(top_20_buys[aid])\n",
    "        for candidate in candidates:\n",
    "            aids_temp[candidate] = aids_temp.get(candidate, 0) + 0.03\n",
    "        sorted_aids = [k for k,v in sorted(aids_temp.items(), key=lambda x: x[1], reverse=True)]\n",
    "        return sorted_aids[:num_cands]\n",
    "    # USE \"CART ORDER\" CO-VISITATION MATRIX\n",
    "    candidates1, candidates2, candidates3 = [], [], []\n",
    "    for aid in unique_aids: # most recent AID is first here\n",
    "        if aid in top_20_buys:\n",
    "            candidates1.extend(top_20_buys[aid])\n",
    "    # USE \"CLICKS\" CO-VISITATION MATRIX\n",
    "    for aid in unique_buys: # most recent AID is first here\n",
    "        if aid in top_20_clicks:\n",
    "            candidates2.extend(top_20_clicks[aid])\n",
    "    for aid in unique_buys: # most recent AID is first here\n",
    "        if aid in top_20_buy2buy:\n",
    "            candidates3.extend(top_20_buy2buy[aid])\n",
    "    # RERANK CANDIDATES\n",
    "    top_candidates = []\n",
    "    # \"\"\"Deote uses 20 instead of 40 here\"\"\"\n",
    "    for candidate, _ in Counter(candidates1+candidates2+candidates3).most_common(num_cands):\n",
    "        if candidate not in unique_aids: top_candidates.append(candidate)\n",
    "    result = unique_aids + top_candidates[:num_cands-len(unique_aids)]\n",
    "    set_result = set(result)\n",
    "    result += [i for i in popul_20_carts if i not in set_result][:num_cands - len(result)]\n",
    "    return result"
   ]
  },
  {
   "cell_type": "code",
   "execution_count": 4,
   "id": "9ff6ab46",
   "metadata": {},
   "outputs": [
    {
     "name": "stdout",
     "output_type": "stream",
     "text": [
      "2022-07-31 22:00:00\n",
      "2022-09-04 21:59:51\n",
      "34 days 23:59:51\n"
     ]
    }
   ],
   "source": [
    "## 3-15-23 Adding back covisit matrix code\n",
    "# Data + data_test had best covisit matrix performance\n",
    "data = pd.read_parquet('data/230313_df_train.pqt')\n",
    "data_test = pd.read_parquet('data/230313_df_test.pqt')\n",
    "\n",
    "d_id2type = pd.read_pickle('data/d_id2type.pkl')\n",
    "d_type2id = pd.read_pickle('data/d_type2id.pkl')\n",
    "\n",
    "df_all_sm = pd.concat([data, data_test]).reset_index(drop=True)\n",
    "trange(df_all_sm)"
   ]
  },
  {
   "cell_type": "code",
   "execution_count": 5,
   "id": "180d8700",
   "metadata": {},
   "outputs": [
    {
     "name": "stdout",
     "output_type": "stream",
     "text": [
      "*Start covisit preprocessing\n",
      "top_20_clicks already exists\n",
      "top_20_buys already exists\n",
      "top_20_buy2buy already exists\n",
      "*Finished covisit preprocessing\n"
     ]
    }
   ],
   "source": [
    "DATE = 230313\n",
    "preprocess_covisits(df_all_sm, DATE)\n",
    "\n",
    "top_20_clicks = pd.read_pickle(f'covisit/{DATE}_top_20_clicks_data_datatest.pkl')\n",
    "top_20_buys = pd.read_pickle(f'covisit/{DATE}_top_20_buys_data_datatest.pkl')\n",
    "top_20_buy2buy = pd.read_pickle(f'covisit/{DATE}_top_20_buy2buy_data_datatest.pkl')"
   ]
  },
  {
   "cell_type": "code",
   "execution_count": 6,
   "id": "e4310969",
   "metadata": {},
   "outputs": [
    {
     "name": "stdout",
     "output_type": "stream",
     "text": [
      "1350939\n",
      "(163955181, 4) (7684122, 4)\n"
     ]
    }
   ],
   "source": [
    "# 0: 5%, 1: 10%, 2: 25%, 3: 50%, 4: 100%\n",
    "CV_NUM = 2\n",
    "DO_LOCAL_VALIDATION=True\n",
    "# DO_LOCAL_VALIDATION=False\n",
    "\n",
    "if DO_LOCAL_VALIDATION:\n",
    "    # Train weeks 1-3, and validate on 4\n",
    "    df_train = pd.read_parquet('data/230313_train_1to3.pqt')\n",
    "    df_val = pd.read_parquet('data/230313_val.pqt')\n",
    "    d = pd.read_pickle(f'data/preload/{DATE}_val_aids_types_{CV_NUM}.pkl')\n",
    "    test_aids, test_types = d['aids'], d['types']\n",
    "else:\n",
    "    # Keep train to 4 weeks to maintain input distribution for LGBMranker\n",
    "    # Train weeks 2-4, validate on 4 (for sanity check)\n",
    "    df_train = pd.read_parquet('data/230313_train_2to4.pqt')\n",
    "    df_val = pd.read_parquet('data/230313_df_test.pqt')\n",
    "    d = pd.read_pickle('data/preload/test_aids_types.pkl')\n",
    "    test_aids, test_types = d['aids'], d['types']\n",
    "\n",
    "t = list(zip(test_aids, test_types))\n",
    "print(len(t)*3)\n",
    "print(df_train.shape, df_val.shape)"
   ]
  },
  {
   "cell_type": "code",
   "execution_count": 7,
   "id": "6e677952",
   "metadata": {},
   "outputs": [],
   "source": [
    "## {0: 'clicks', 1: 'carts', 2: 'orders'}\n",
    "popul_20_clicks = df_val.loc[df_val['type']==0,'aid'].value_counts().index.values[:20].tolist()\n",
    "popul_20_carts = df_val.loc[df_val['type']== 1,'aid'].value_counts().index.values[:20].tolist()\n",
    "popul_20_orders = df_val.loc[df_val['type']==2,'aid'].value_counts().index.values[:20].tolist()"
   ]
  },
  {
   "cell_type": "code",
   "execution_count": 8,
   "id": "ab57bd0f",
   "metadata": {},
   "outputs": [
    {
     "name": "stdout",
     "output_type": "stream",
     "text": [
      "CPU times: user 7 s, sys: 2.34 s, total: 9.34 s\n",
      "Wall time: 14.6 s\n"
     ]
    }
   ],
   "source": [
    "%%time\n",
    "pclicks = get_preds(t, suggest_clicks)\n",
    "pcarts = get_preds(t, suggest_carts)\n",
    "preds = pclicks + pcarts + pcarts"
   ]
  },
  {
   "cell_type": "code",
   "execution_count": 9,
   "id": "872d695a",
   "metadata": {},
   "outputs": [
    {
     "data": {
      "text/html": [
       "<div>\n",
       "<style scoped>\n",
       "    .dataframe tbody tr th:only-of-type {\n",
       "        vertical-align: middle;\n",
       "    }\n",
       "\n",
       "    .dataframe tbody tr th {\n",
       "        vertical-align: top;\n",
       "    }\n",
       "\n",
       "    .dataframe thead th {\n",
       "        text-align: right;\n",
       "    }\n",
       "</style>\n",
       "<table border=\"1\" class=\"dataframe\">\n",
       "  <thead>\n",
       "    <tr style=\"text-align: right;\">\n",
       "      <th></th>\n",
       "      <th>session</th>\n",
       "      <th>type</th>\n",
       "    </tr>\n",
       "  </thead>\n",
       "  <tbody>\n",
       "    <tr>\n",
       "      <th>0</th>\n",
       "      <td>11098530</td>\n",
       "      <td>clicks</td>\n",
       "    </tr>\n",
       "    <tr>\n",
       "      <th>1</th>\n",
       "      <td>11098531</td>\n",
       "      <td>clicks</td>\n",
       "    </tr>\n",
       "    <tr>\n",
       "      <th>2</th>\n",
       "      <td>11098535</td>\n",
       "      <td>clicks</td>\n",
       "    </tr>\n",
       "  </tbody>\n",
       "</table>\n",
       "</div>"
      ],
      "text/plain": [
       "    session    type\n",
       "0  11098530  clicks\n",
       "1  11098531  clicks\n",
       "2  11098535  clicks"
      ]
     },
     "execution_count": 9,
     "metadata": {},
     "output_type": "execute_result"
    }
   ],
   "source": [
    "sess = test_aids.index.to_list()\n",
    "sub = {'session': sess*3,\n",
    "       'type': ['clicks']*len(sess) + ['carts']*len(sess) + ['orders']*len(sess)\n",
    "      }\n",
    "submission = pd.DataFrame(sub)\n",
    "submission.head(3)"
   ]
  },
  {
   "cell_type": "code",
   "execution_count": 10,
   "id": "4d79133d",
   "metadata": {},
   "outputs": [
    {
     "data": {
      "text/html": [
       "<div>\n",
       "<style scoped>\n",
       "    .dataframe tbody tr th:only-of-type {\n",
       "        vertical-align: middle;\n",
       "    }\n",
       "\n",
       "    .dataframe tbody tr th {\n",
       "        vertical-align: top;\n",
       "    }\n",
       "\n",
       "    .dataframe thead th {\n",
       "        text-align: right;\n",
       "    }\n",
       "</style>\n",
       "<table border=\"1\" class=\"dataframe\">\n",
       "  <thead>\n",
       "    <tr style=\"text-align: right;\">\n",
       "      <th></th>\n",
       "      <th>session</th>\n",
       "      <th>type</th>\n",
       "      <th>labels</th>\n",
       "    </tr>\n",
       "  </thead>\n",
       "  <tbody>\n",
       "    <tr>\n",
       "      <th>0</th>\n",
       "      <td>11098530</td>\n",
       "      <td>clicks</td>\n",
       "      <td>[409236, 264500, 1603001, 963957, 254154, 5830...</td>\n",
       "    </tr>\n",
       "    <tr>\n",
       "      <th>1</th>\n",
       "      <td>11098531</td>\n",
       "      <td>clicks</td>\n",
       "      <td>[1271998, 624163, 1553691, 396199, 1728212, 13...</td>\n",
       "    </tr>\n",
       "    <tr>\n",
       "      <th>2</th>\n",
       "      <td>11098535</td>\n",
       "      <td>clicks</td>\n",
       "      <td>[745365, 767201, 1750442, 803918, 896972, 1371...</td>\n",
       "    </tr>\n",
       "  </tbody>\n",
       "</table>\n",
       "</div>"
      ],
      "text/plain": [
       "    session    type                                             labels\n",
       "0  11098530  clicks  [409236, 264500, 1603001, 963957, 254154, 5830...\n",
       "1  11098531  clicks  [1271998, 624163, 1553691, 396199, 1728212, 13...\n",
       "2  11098535  clicks  [745365, 767201, 1750442, 803918, 896972, 1371..."
      ]
     },
     "execution_count": 10,
     "metadata": {},
     "output_type": "execute_result"
    }
   ],
   "source": [
    "if DO_LOCAL_VALIDATION:\n",
    "    submission['labels'] = preds\n",
    "else:\n",
    "    l_preds = [' '.join([str(l) for l in lls]) for lls in preds]\n",
    "    submission['labels'] = l_preds\n",
    "submission.head(3)"
   ]
  },
  {
   "cell_type": "code",
   "execution_count": 11,
   "id": "af53abf1",
   "metadata": {},
   "outputs": [
    {
     "name": "stdout",
     "output_type": "stream",
     "text": [
      "======================\n",
      "clicks Recall: 0.5906\n",
      "carts Recall: 0.4288\n",
      "orders Recall: 0.6419\n",
      "======================\n",
      "Overall Recall: 0.57284\n",
      "======================\n",
      "CPU times: user 5.37 s, sys: 1.48 s, total: 6.85 s\n",
      "Wall time: 9.18 s\n"
     ]
    }
   ],
   "source": [
    "%%time\n",
    "get_recall(submission, DO_LOCAL_VALIDATION, DATE)"
   ]
  },
  {
   "cell_type": "code",
   "execution_count": 12,
   "id": "6987f8fe",
   "metadata": {},
   "outputs": [],
   "source": [
    "%%time\n",
    "INFO = \"#2 230321 nb 1005 check, pclicks pcarts pcarts, covisit with 230313 covisits\"\n",
    "s = f\"kaggle competitions submit -c otto-recommender-system -f submission.zip -m '{INFO}'\"\n",
    "os.system(s)"
   ]
  },
  {
   "cell_type": "code",
   "execution_count": null,
   "id": "7f32f6f0",
   "metadata": {},
   "outputs": [],
   "source": []
  }
 ],
 "metadata": {
  "kernelspec": {
   "display_name": "Python 3 (ipykernel)",
   "language": "python",
   "name": "python3"
  },
  "language_info": {
   "codemirror_mode": {
    "name": "ipython",
    "version": 3
   },
   "file_extension": ".py",
   "mimetype": "text/x-python",
   "name": "python",
   "nbconvert_exporter": "python",
   "pygments_lexer": "ipython3",
   "version": "3.8.13"
  }
 },
 "nbformat": 4,
 "nbformat_minor": 5
}
