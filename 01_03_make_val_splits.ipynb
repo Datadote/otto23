{
 "cells": [
  {
   "cell_type": "code",
   "execution_count": 1,
   "id": "dd0d0b60",
   "metadata": {},
   "outputs": [],
   "source": [
    "\"\"\" Split validation data into 5/10/25/50% pickle files for faster loading \"\"\"\n",
    "import pandas as pd\n",
    "import os"
   ]
  },
  {
   "cell_type": "code",
   "execution_count": 2,
   "id": "774261a8",
   "metadata": {},
   "outputs": [
    {
     "name": "stdout",
     "output_type": "stream",
     "text": [
      "(7684122, 4) 1801251\n"
     ]
    },
    {
     "data": {
      "text/html": [
       "<div>\n",
       "<style scoped>\n",
       "    .dataframe tbody tr th:only-of-type {\n",
       "        vertical-align: middle;\n",
       "    }\n",
       "\n",
       "    .dataframe tbody tr th {\n",
       "        vertical-align: top;\n",
       "    }\n",
       "\n",
       "    .dataframe thead th {\n",
       "        text-align: right;\n",
       "    }\n",
       "</style>\n",
       "<table border=\"1\" class=\"dataframe\">\n",
       "  <thead>\n",
       "    <tr style=\"text-align: right;\">\n",
       "      <th></th>\n",
       "      <th>session</th>\n",
       "      <th>ts</th>\n",
       "      <th>type</th>\n",
       "      <th>aid</th>\n",
       "    </tr>\n",
       "  </thead>\n",
       "  <tbody>\n",
       "    <tr>\n",
       "      <th>0</th>\n",
       "      <td>11098528</td>\n",
       "      <td>1661119200</td>\n",
       "      <td>0</td>\n",
       "      <td>11830</td>\n",
       "    </tr>\n",
       "    <tr>\n",
       "      <th>1</th>\n",
       "      <td>11098528</td>\n",
       "      <td>1661119417</td>\n",
       "      <td>0</td>\n",
       "      <td>1679529</td>\n",
       "    </tr>\n",
       "    <tr>\n",
       "      <th>2</th>\n",
       "      <td>11098528</td>\n",
       "      <td>1661119474</td>\n",
       "      <td>0</td>\n",
       "      <td>92401</td>\n",
       "    </tr>\n",
       "  </tbody>\n",
       "</table>\n",
       "</div>"
      ],
      "text/plain": [
       "    session          ts  type      aid\n",
       "0  11098528  1661119200     0    11830\n",
       "1  11098528  1661119417     0  1679529\n",
       "2  11098528  1661119474     0    92401"
      ]
     },
     "execution_count": 2,
     "metadata": {},
     "output_type": "execute_result"
    }
   ],
   "source": [
    "# Speedup - Save validation data as pkl files (loading vs preprocessing each time)\n",
    "df_val = pd.read_parquet('data/230313_val.pqt')\n",
    "print(df_val.shape, len(df_val.session.unique()))\n",
    "df_val.head(3)"
   ]
  },
  {
   "cell_type": "code",
   "execution_count": 3,
   "id": "d1b0cd4b",
   "metadata": {},
   "outputs": [
    {
     "name": "stdout",
     "output_type": "stream",
     "text": [
      "CPU times: user 1min 3s, sys: 652 ms, total: 1min 3s\n",
      "Wall time: 1min 3s\n"
     ]
    }
   ],
   "source": [
    "%%time\n",
    "# Preprocess df_val into list aids, and types. Then save as a pickle\n",
    "grp = df_val.reset_index(drop=True).groupby('session')\n",
    "aids = grp['aid'].apply(list) # series: session, [aids]\n",
    "types = grp['type'].apply(list) # series: session, [aid types]"
   ]
  },
  {
   "cell_type": "code",
   "execution_count": 4,
   "id": "c31d0748",
   "metadata": {},
   "outputs": [
    {
     "name": "stdout",
     "output_type": "stream",
     "text": [
      "Start 0\n",
      "Start 1\n",
      "Start 2\n",
      "Start 3\n",
      "Start 4\n"
     ]
    }
   ],
   "source": [
    "fdir = 'data/preload'\n",
    "if not os.path.exists(fdir): os.mkdir(fdir)\n",
    "\n",
    "date = 230313\n",
    "for i, frac in enumerate([0.05, 0.1, 0.25, 0.5, 1]):\n",
    "    print(f'Start {i}')\n",
    "    sess_cv = aids.index.to_series().sample(frac=frac, random_state=42)\n",
    "    tmp_aids = aids.loc[sess_cv].sort_index()\n",
    "    tmp_types = types.loc[sess_cv].sort_index()\n",
    "    d = {'aids': tmp_aids, 'types': tmp_types}\n",
    "    pd.to_pickle(d, f'data/preload/{date}_val_aids_types_{i}.pkl', protocol=4)"
   ]
  },
  {
   "cell_type": "code",
   "execution_count": 3,
   "id": "e9d17440",
   "metadata": {},
   "outputs": [
    {
     "name": "stdout",
     "output_type": "stream",
     "text": [
      "CPU times: user 1min 4s, sys: 5.93 s, total: 1min 10s\n",
      "Wall time: 1min 4s\n"
     ]
    }
   ],
   "source": [
    "%%time\n",
    "# Preprocess final submission test aids and types\n",
    "df_train = pd.read_parquet('data/230313_train_2to4.pqt')\n",
    "df_val = pd.read_parquet('data/230313_df_test.pqt')\n",
    "# Preprocess df_val into list aids, and types. Then save as a pickle\n",
    "grp = df_val.reset_index(drop=True).groupby('session')\n",
    "tmp_aids = grp['aid'].apply(list) # series: session, [aids]\n",
    "tmp_types = grp['type'].apply(list) # series: session, [aid types]\n",
    "d = {'aids': tmp_aids, 'types': tmp_types}\n",
    "pd.to_pickle(d, f'data/preload/test_aids_types.pkl', protocol=4)"
   ]
  },
  {
   "cell_type": "code",
   "execution_count": null,
   "id": "d72218ca",
   "metadata": {},
   "outputs": [],
   "source": []
  }
 ],
 "metadata": {
  "kernelspec": {
   "display_name": "Python 3 (ipykernel)",
   "language": "python",
   "name": "python3"
  },
  "language_info": {
   "codemirror_mode": {
    "name": "ipython",
    "version": 3
   },
   "file_extension": ".py",
   "mimetype": "text/x-python",
   "name": "python",
   "nbconvert_exporter": "python",
   "pygments_lexer": "ipython3",
   "version": "3.8.13"
  }
 },
 "nbformat": 4,
 "nbformat_minor": 5
}
