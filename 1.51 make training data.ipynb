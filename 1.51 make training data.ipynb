{
 "cells": [
  {
   "cell_type": "code",
   "execution_count": 1,
   "id": "c3969f01",
   "metadata": {},
   "outputs": [
    {
     "data": {
      "text/plain": [
       "'\\n03-08-23 - *Maybe add code to make submission_gt\\'s here, with variable lengths\\n03-06-23 - Code to split data into train/val.\\n         - Train/test data was put in main code pipeline for covisit creation\\n         - For \"data/230107_valid.pqt\", might\\'ve sampled half the sessions and saved\\n'"
      ]
     },
     "execution_count": 1,
     "metadata": {},
     "output_type": "execute_result"
    }
   ],
   "source": [
    "\"\"\"\n",
    "03-08-23 - *Maybe add code to make submission_gt's here, with variable lengths\n",
    "03-06-23 - Code to split data into train/val.\n",
    "         - Train/test data was put in main code pipeline for covisit creation\n",
    "         - For \"data/230107_valid.pqt\", might've sampled half the sessions and saved\n",
    "\"\"\";"
   ]
  },
  {
   "cell_type": "code",
   "execution_count": 2,
   "id": "dd0d0b60",
   "metadata": {},
   "outputs": [],
   "source": [
    "import time\n",
    "\n",
    "import numpy as np\n",
    "import pandas as pd\n",
    "from matplotlib import pyplot as plt\n",
    "from pathlib import Path\n",
    "import os\n",
    "import cudf\n",
    "\n",
    "from otto_utils import *"
   ]
  },
  {
   "cell_type": "code",
   "execution_count": 3,
   "id": "78fa14b1",
   "metadata": {},
   "outputs": [
    {
     "name": "stdout",
     "output_type": "stream",
     "text": [
      "2022-07-31 22:00:00\n",
      "2022-08-28 21:59:59\n",
      "27 days 23:59:59\n",
      "{0: 'clicks', 1: 'carts', 2: 'orders'} {'clicks': 0, 'carts': 1, 'orders': 2}\n",
      "(216716096, 4)\n"
     ]
    },
    {
     "data": {
      "text/html": [
       "<div>\n",
       "<style scoped>\n",
       "    .dataframe tbody tr th:only-of-type {\n",
       "        vertical-align: middle;\n",
       "    }\n",
       "\n",
       "    .dataframe tbody tr th {\n",
       "        vertical-align: top;\n",
       "    }\n",
       "\n",
       "    .dataframe thead th {\n",
       "        text-align: right;\n",
       "    }\n",
       "</style>\n",
       "<table border=\"1\" class=\"dataframe\">\n",
       "  <thead>\n",
       "    <tr style=\"text-align: right;\">\n",
       "      <th></th>\n",
       "      <th>session</th>\n",
       "      <th>ts</th>\n",
       "      <th>type</th>\n",
       "      <th>aid</th>\n",
       "    </tr>\n",
       "  </thead>\n",
       "  <tbody>\n",
       "    <tr>\n",
       "      <th>0</th>\n",
       "      <td>0</td>\n",
       "      <td>1659304800</td>\n",
       "      <td>0</td>\n",
       "      <td>1517085</td>\n",
       "    </tr>\n",
       "    <tr>\n",
       "      <th>1</th>\n",
       "      <td>0</td>\n",
       "      <td>1659304904</td>\n",
       "      <td>0</td>\n",
       "      <td>1563459</td>\n",
       "    </tr>\n",
       "    <tr>\n",
       "      <th>2</th>\n",
       "      <td>0</td>\n",
       "      <td>1659367439</td>\n",
       "      <td>0</td>\n",
       "      <td>1309446</td>\n",
       "    </tr>\n",
       "  </tbody>\n",
       "</table>\n",
       "</div>"
      ],
      "text/plain": [
       "   session          ts  type      aid\n",
       "0        0  1659304800     0  1517085\n",
       "1        0  1659304904     0  1563459\n",
       "2        0  1659367439     0  1309446"
      ]
     },
     "execution_count": 3,
     "metadata": {},
     "output_type": "execute_result"
    }
   ],
   "source": [
    "data = pd.read_parquet('data/230104_df_train.pqt')\n",
    "data_test = pd.read_parquet('data/230104_df_test.pqt')\n",
    "d_id2type = pd.read_pickle('data/d_id2type.pkl')\n",
    "d_type2id = pd.read_pickle('data/d_type2id.pkl')\n",
    "\n",
    "trange(data)\n",
    "print(d_id2type, d_type2id)\n",
    "print(data.shape)\n",
    "data.head(3)"
   ]
  },
  {
   "cell_type": "code",
   "execution_count": 4,
   "id": "d36d3bc2",
   "metadata": {},
   "outputs": [
    {
     "name": "stdout",
     "output_type": "stream",
     "text": [
      "<class 'pandas.core.frame.DataFrame'>\n",
      "RangeIndex: 216716096 entries, 0 to 216716095\n",
      "Data columns (total 4 columns):\n",
      " #   Column   Dtype\n",
      "---  ------   -----\n",
      " 0   session  int64\n",
      " 1   ts       int32\n",
      " 2   type     uint8\n",
      " 3   aid      int32\n",
      "dtypes: int32(2), int64(1), uint8(1)\n",
      "memory usage: 3.4 GB\n"
     ]
    }
   ],
   "source": [
    "data.info()"
   ]
  },
  {
   "cell_type": "code",
   "execution_count": 5,
   "id": "16accb8c",
   "metadata": {},
   "outputs": [
    {
     "name": "stdout",
     "output_type": "stream",
     "text": [
      "<class 'pandas.core.frame.DataFrame'>\n",
      "RangeIndex: 6928123 entries, 0 to 6928122\n",
      "Data columns (total 4 columns):\n",
      " #   Column   Dtype\n",
      "---  ------   -----\n",
      " 0   session  int64\n",
      " 1   ts       int32\n",
      " 2   type     uint8\n",
      " 3   aid      int32\n",
      "dtypes: int32(2), int64(1), uint8(1)\n",
      "memory usage: 112.3 MB\n"
     ]
    }
   ],
   "source": [
    "data_test.info()"
   ]
  },
  {
   "cell_type": "code",
   "execution_count": 4,
   "id": "67091fdd",
   "metadata": {},
   "outputs": [
    {
     "name": "stdout",
     "output_type": "stream",
     "text": [
      "time_range days: 28.0\n",
      "1 wk tsplit: 1661119199\n",
      "Train wks 1-3, Val wk 4\n",
      "Intersect length: 3521833\n",
      "CPU times: user 28.5 s, sys: 3.91 s, total: 32.4 s\n",
      "Wall time: 30.8 s\n"
     ]
    }
   ],
   "source": [
    "%%time\n",
    "DO_LOCAL_VALIDATION = True\n",
    "\n",
    "# Split into train validation with last week as validation\n",
    "time_range = data.ts.max()-data.ts.min() # ts is in secs\n",
    "time_range_days = time_range/3600/24\n",
    "print(f'time_range days: {time_range_days:0.1f}')\n",
    "\n",
    "# Use last week as hold out. Get tsplit to split train and val data\n",
    "one_week = 3600*24*7\n",
    "tsplit = data.ts.max()-one_week\n",
    "print(f'1 wk tsplit: {tsplit}')\n",
    "\n",
    "if DO_LOCAL_VALIDATION:\n",
    "    print('Train wks 1-3, Val wk 4')\n",
    "    tsplit = data.ts.max()-one_week\n",
    "    df_train = data[data.ts<=tsplit] # changed from < to <= (Radek)\n",
    "    df_val = data[data.ts>tsplit]\n",
    "\n",
    "    s1 = set(df_train.session.values)\n",
    "    s2 = set(df_val.session.values)\n",
    "    intersect = s1&s2\n",
    "    print(f'Intersect length: {len(intersect)}')\n",
    "\n",
    "    # 1-6-23 any train sessions overlap into val set, are removed from val set\n",
    "    df_val_clean = df_val[~df_val.session.isin(intersect)]\n",
    "    \n",
    "    df_train = df_train.reset_index(drop=True)\n",
    "    df_val = df_val.reset_index(drop=True) # Not used after this code\n",
    "    df_val_clean = df_val_clean.reset_index(drop=True)\n",
    "        \n",
    "    tstart = data.ts.max()-3*one_week\n",
    "    df_train_test = data[data.ts>tstart].reset_index(drop=True)"
   ]
  },
  {
   "cell_type": "code",
   "execution_count": 8,
   "id": "bc4c3b7d",
   "metadata": {},
   "outputs": [
    {
     "name": "stdout",
     "output_type": "stream",
     "text": [
      "2022-07-31 22:00:00\n",
      "2022-08-21 21:59:59\n",
      "20 days 23:59:59\n",
      "2022-08-21 22:00:00\n",
      "2022-08-28 21:59:59\n",
      "6 days 23:59:59\n",
      "2022-08-07 22:00:00\n",
      "2022-08-28 21:59:59\n",
      "20 days 23:59:59\n",
      "2022-08-28 22:00:00\n",
      "2022-09-04 21:59:51\n",
      "6 days 23:59:51\n",
      "(163955181, 4) (52760915, 4) (15384577, 4) (163555218, 4) (6928123, 4)\n"
     ]
    }
   ],
   "source": [
    "trange(df_train)\n",
    "trange(df_val)\n",
    "trange(df_train_test)\n",
    "trange(data_test)\n",
    "print(df_train.shape, df_val.shape, df_val_clean.shape, df_train_test.shape, data_test.shape)"
   ]
  },
  {
   "cell_type": "code",
   "execution_count": 9,
   "id": "95c94731",
   "metadata": {},
   "outputs": [
    {
     "name": "stdout",
     "output_type": "stream",
     "text": [
      "Elasped time: 11.3 m\n"
     ]
    }
   ],
   "source": [
    "# Use week 4 for validation. Uniform random cutoff for val data and val labels\n",
    "l_session = []\n",
    "new_val, new_val_labels = [], []\n",
    "t1 = time.perf_counter()\n",
    "for session, grp in df_val_clean.groupby('session'):\n",
    "    cutoff = np.random.randint(1, len(grp)) # want >=1 item for each val session\n",
    "    new_val.append(grp.iloc[:cutoff])\n",
    "    new_val_labels.append(grp.iloc[cutoff:])\n",
    "    l_session.append([session, cutoff])\n",
    "\n",
    "new_val = pd.concat(new_val).reset_index(drop=True)\n",
    "new_val_labels = pd.concat(new_val_labels).reset_index(drop=True)\n",
    "\n",
    "t2 = time.perf_counter()\n",
    "print(f'Elasped time: {(t2-t1)/60.:0.1f} m')"
   ]
  },
  {
   "cell_type": "code",
   "execution_count": 22,
   "id": "3fe93df0",
   "metadata": {},
   "outputs": [
    {
     "name": "stdout",
     "output_type": "stream",
     "text": [
      "# aids in test, but not in train: 0\n",
      "# aids in test, but not in train wk2-4: 739\n",
      "test-aids not in train wk2-4 / total # test-aids: 0.09\n",
      "# aids in wk4 val, but not in train wk1-3: 24318\n",
      "# aids in wk4 val-labels, but not in train wk1-3 20194\n",
      "CPU times: user 1min 57s, sys: 461 ms, total: 1min 57s\n",
      "Wall time: 1min 56s\n"
     ]
    }
   ],
   "source": [
    "%%time\n",
    "# Check all test items are also in the train set\n",
    "# Covisit matrix can add aids that are missing in the the updated train\n",
    "# For HP tuning, train wk 1-3, validate/predict on 4\n",
    "# For final test set, train wk 2-4 (keeps distribution?), predict on 5\n",
    "# **Need to make a final train set for wks 2-4\n",
    "\n",
    "aids_data = set(data.aid)\n",
    "aids_test = set(data_test.aid)\n",
    "aids_df_train = set(df_train.aid)\n",
    "aids_df_train_test = set(df_train_test.aid)\n",
    "aids_new_val = set(new_val.aid)\n",
    "aids_new_val_labels = set(new_val_labels.aid)\n",
    "aids_val_wk4 = set(df_val_clean.aid)\n",
    "\n",
    "print(f'# aids in test, but not in train: {len(aids_test - aids_data)}')\n",
    "print(f'# aids in test, but not in train wk2-4: {len(aids_test - aids_df_train_test)}')\n",
    "print(f'100 * test-aids not in train wk2-4 / total test-aids: {len(aids_test - aids_df_train_test)/len(aids_test)*100:0.2f}')\n",
    "print(f'# aids in wk4 val, but not in train wk1-3: {len(aids_val_wk4 - aids_df_train)}')\n",
    "print(f'# aids in wk4 val-labels, but not in train wk1-3 {len(aids_new_val_labels - aids_df_train)}')\n",
    "print('***********')"
   ]
  },
  {
   "cell_type": "code",
   "execution_count": 17,
   "id": "bad82da5",
   "metadata": {},
   "outputs": [
    {
     "data": {
      "text/html": [
       "<div>\n",
       "<style scoped>\n",
       "    .dataframe tbody tr th:only-of-type {\n",
       "        vertical-align: middle;\n",
       "    }\n",
       "\n",
       "    .dataframe tbody tr th {\n",
       "        vertical-align: top;\n",
       "    }\n",
       "\n",
       "    .dataframe thead th {\n",
       "        text-align: right;\n",
       "    }\n",
       "</style>\n",
       "<table border=\"1\" class=\"dataframe\">\n",
       "  <thead>\n",
       "    <tr style=\"text-align: right;\">\n",
       "      <th></th>\n",
       "      <th>session</th>\n",
       "      <th>type</th>\n",
       "      <th>labels</th>\n",
       "    </tr>\n",
       "  </thead>\n",
       "  <tbody>\n",
       "    <tr>\n",
       "      <th>0</th>\n",
       "      <td>11098528</td>\n",
       "      <td>clicks</td>\n",
       "      <td>[796572]</td>\n",
       "    </tr>\n",
       "    <tr>\n",
       "      <th>1</th>\n",
       "      <td>11098528</td>\n",
       "      <td>orders</td>\n",
       "      <td>[1462506, 950341, 1561739, 92401]</td>\n",
       "    </tr>\n",
       "    <tr>\n",
       "      <th>2</th>\n",
       "      <td>11098529</td>\n",
       "      <td>clicks</td>\n",
       "      <td>[1298277]</td>\n",
       "    </tr>\n",
       "    <tr>\n",
       "      <th>3</th>\n",
       "      <td>11098530</td>\n",
       "      <td>carts</td>\n",
       "      <td>[409236]</td>\n",
       "    </tr>\n",
       "    <tr>\n",
       "      <th>4</th>\n",
       "      <td>11098530</td>\n",
       "      <td>clicks</td>\n",
       "      <td>[409236]</td>\n",
       "    </tr>\n",
       "    <tr>\n",
       "      <th>...</th>\n",
       "      <td>...</td>\n",
       "      <td>...</td>\n",
       "      <td>...</td>\n",
       "    </tr>\n",
       "    <tr>\n",
       "      <th>2213334</th>\n",
       "      <td>12899774</td>\n",
       "      <td>clicks</td>\n",
       "      <td>[1399483]</td>\n",
       "    </tr>\n",
       "    <tr>\n",
       "      <th>2213335</th>\n",
       "      <td>12899775</td>\n",
       "      <td>clicks</td>\n",
       "      <td>[1760714]</td>\n",
       "    </tr>\n",
       "    <tr>\n",
       "      <th>2213336</th>\n",
       "      <td>12899776</td>\n",
       "      <td>clicks</td>\n",
       "      <td>[1737908]</td>\n",
       "    </tr>\n",
       "    <tr>\n",
       "      <th>2213337</th>\n",
       "      <td>12899777</td>\n",
       "      <td>clicks</td>\n",
       "      <td>[384045]</td>\n",
       "    </tr>\n",
       "    <tr>\n",
       "      <th>2213338</th>\n",
       "      <td>12899778</td>\n",
       "      <td>clicks</td>\n",
       "      <td>[32070]</td>\n",
       "    </tr>\n",
       "  </tbody>\n",
       "</table>\n",
       "<p>2213339 rows × 3 columns</p>\n",
       "</div>"
      ],
      "text/plain": [
       "          session    type                             labels\n",
       "0        11098528  clicks                           [796572]\n",
       "1        11098528  orders  [1462506, 950341, 1561739, 92401]\n",
       "2        11098529  clicks                          [1298277]\n",
       "3        11098530   carts                           [409236]\n",
       "4        11098530  clicks                           [409236]\n",
       "...           ...     ...                                ...\n",
       "2213334  12899774  clicks                          [1399483]\n",
       "2213335  12899775  clicks                          [1760714]\n",
       "2213336  12899776  clicks                          [1737908]\n",
       "2213337  12899777  clicks                           [384045]\n",
       "2213338  12899778  clicks                            [32070]\n",
       "\n",
       "[2213339 rows x 3 columns]"
      ]
     },
     "execution_count": 17,
     "metadata": {},
     "output_type": "execute_result"
    }
   ],
   "source": [
    "valid = new_val_labels.copy()\n",
    "if 'int' in str(valid.type.dtype):\n",
    "    valid.type = valid.type.map(lambda idx: d_id2type[idx])\n",
    "ground_truth = valid.groupby(['session', 'type'])['aid'].apply(list)\n",
    "ground_truth = ground_truth.reset_index().rename(columns={'aid': 'labels'})\n",
    "ground_truth.loc[ground_truth.type == 'clicks', 'labels'] = ground_truth.loc[ground_truth.type == 'clicks', 'labels'].str[:1]\n",
    "ground_truth"
   ]
  },
  {
   "cell_type": "code",
   "execution_count": 23,
   "id": "e5f460a6",
   "metadata": {},
   "outputs": [],
   "source": [
    "# Save all for reproducibility\n",
    "pd.to_pickle(l_session, 'data_new/230313_val_cutoff_idxs.pkl', protocol=4)\n",
    "df_train.to_parquet('data_new/230313_train_1to3.pqt')\n",
    "df_train_test.to_parquet('data_new/230313_train_2to4.pqt')\n",
    "new_val.to_parquet('data_new/230313_val.pqt')\n",
    "new_val_labels.to_parquet('data_new/230313_val_labels.pqt')\n",
    "pd.to_pickle(ground_truth, 'data_new/230313_new_val_labels_gt.pkl', protocol=4)"
   ]
  },
  {
   "cell_type": "code",
   "execution_count": null,
   "id": "5bd9ec57",
   "metadata": {},
   "outputs": [],
   "source": []
  },
  {
   "cell_type": "code",
   "execution_count": null,
   "id": "77ecd78a",
   "metadata": {},
   "outputs": [],
   "source": []
  },
  {
   "cell_type": "code",
   "execution_count": null,
   "id": "1655f306",
   "metadata": {},
   "outputs": [],
   "source": []
  },
  {
   "cell_type": "code",
   "execution_count": null,
   "id": "ad3c2459",
   "metadata": {},
   "outputs": [],
   "source": []
  }
 ],
 "metadata": {
  "kernelspec": {
   "display_name": "Python 3 (ipykernel)",
   "language": "python",
   "name": "python3"
  },
  "language_info": {
   "codemirror_mode": {
    "name": "ipython",
    "version": 3
   },
   "file_extension": ".py",
   "mimetype": "text/x-python",
   "name": "python",
   "nbconvert_exporter": "python",
   "pygments_lexer": "ipython3",
   "version": "3.8.13"
  }
 },
 "nbformat": 4,
 "nbformat_minor": 5
}
