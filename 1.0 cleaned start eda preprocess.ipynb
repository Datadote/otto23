{
 "cells": [
  {
   "cell_type": "code",
   "execution_count": 27,
   "id": "39565c47",
   "metadata": {},
   "outputs": [],
   "source": [
    "\"\"\"\n",
    "23-03-15 : Use whole scripp to convert json to train & test parquets with reduced memory dtypes\n",
    "23-01-04\n",
    "- Read jsonl files with pd_read_csv bcuz cudf can't fit string\n",
    "- Create id2type and type2id dict .pkl files\n",
    "- Optimize some datatypes to unit8 and uint32\n",
    "- Save as csv and parquet\n",
    "\"\"\";"
   ]
  },
  {
   "cell_type": "code",
   "execution_count": 1,
   "id": "dd0d0b60",
   "metadata": {},
   "outputs": [],
   "source": [
    "import numpy as np\n",
    "import pandas as pd"
   ]
  },
  {
   "cell_type": "code",
   "execution_count": 2,
   "id": "3f7c0a56",
   "metadata": {},
   "outputs": [
    {
     "data": {
      "text/plain": [
       "({'clicks': 0, 'carts': 1, 'orders': 2},\n",
       " {0: 'clicks', 1: 'carts', 2: 'orders'})"
      ]
     },
     "execution_count": 2,
     "metadata": {},
     "output_type": "execute_result"
    }
   ],
   "source": [
    "types = ['clicks', 'carts', 'orders']\n",
    "d_type2id = {v: i for i, v in enumerate(types)}\n",
    "d_id2type = {v: k for k,v in d_type2id.items()}\n",
    "d_type2id, d_id2type"
   ]
  },
  {
   "cell_type": "code",
   "execution_count": 2,
   "id": "dc9a694d",
   "metadata": {},
   "outputs": [],
   "source": [
    "def jsonl_to_df(fn, d_type2id):\n",
    "    chunks = pd.read_json(fn, lines=True, chunksize=100_000)\n",
    "    sessions = []\n",
    "    aids, tss, types = [], [], []\n",
    "    for chunk in chunks:\n",
    "        for row in chunk.itertuples():\n",
    "            num_events = len(row.events)\n",
    "            sessions.extend([row.session]*num_events)\n",
    "            for event in row.events:\n",
    "                aids.append(event['aid'])\n",
    "                tss.append(event['ts'])\n",
    "                types.append(d_type2id[event['type']])\n",
    "    d = {'session': sessions, 'ts': tss, 'type': types, 'aid': aids, }\n",
    "    return pd.DataFrame(d)"
   ]
  },
  {
   "cell_type": "code",
   "execution_count": 5,
   "id": "26808d8d",
   "metadata": {},
   "outputs": [
    {
     "name": "stdout",
     "output_type": "stream",
     "text": [
      "(216716096, 4)\n",
      "CPU times: user 36min 33s, sys: 25.6 s, total: 36min 59s\n",
      "Wall time: 36min 55s\n"
     ]
    },
    {
     "data": {
      "text/html": [
       "<div>\n",
       "<style scoped>\n",
       "    .dataframe tbody tr th:only-of-type {\n",
       "        vertical-align: middle;\n",
       "    }\n",
       "\n",
       "    .dataframe tbody tr th {\n",
       "        vertical-align: top;\n",
       "    }\n",
       "\n",
       "    .dataframe thead th {\n",
       "        text-align: right;\n",
       "    }\n",
       "</style>\n",
       "<table border=\"1\" class=\"dataframe\">\n",
       "  <thead>\n",
       "    <tr style=\"text-align: right;\">\n",
       "      <th></th>\n",
       "      <th>session</th>\n",
       "      <th>ts</th>\n",
       "      <th>type</th>\n",
       "      <th>aid</th>\n",
       "    </tr>\n",
       "  </thead>\n",
       "  <tbody>\n",
       "    <tr>\n",
       "      <th>0</th>\n",
       "      <td>0</td>\n",
       "      <td>1659304800025</td>\n",
       "      <td>0</td>\n",
       "      <td>1517085</td>\n",
       "    </tr>\n",
       "    <tr>\n",
       "      <th>1</th>\n",
       "      <td>0</td>\n",
       "      <td>1659304904511</td>\n",
       "      <td>0</td>\n",
       "      <td>1563459</td>\n",
       "    </tr>\n",
       "    <tr>\n",
       "      <th>2</th>\n",
       "      <td>0</td>\n",
       "      <td>1659367439426</td>\n",
       "      <td>0</td>\n",
       "      <td>1309446</td>\n",
       "    </tr>\n",
       "  </tbody>\n",
       "</table>\n",
       "</div>"
      ],
      "text/plain": [
       "   session             ts  type      aid\n",
       "0        0  1659304800025     0  1517085\n",
       "1        0  1659304904511     0  1563459\n",
       "2        0  1659367439426     0  1309446"
      ]
     },
     "execution_count": 5,
     "metadata": {},
     "output_type": "execute_result"
    }
   ],
   "source": [
    "%%time\n",
    "# Train df preprocessing\n",
    "fn = 'data/train.jsonl'\n",
    "df_train = jsonl_to_df(fn, d_type2id)\n",
    "df_train.type = df_train.type.astype(np.uint8) # 7.4 GB -> 6.4 GB\n",
    "print(df_train.shape) \n",
    "df_train.head(3)"
   ]
  },
  {
   "cell_type": "code",
   "execution_count": 5,
   "id": "510683b1",
   "metadata": {},
   "outputs": [
    {
     "name": "stdout",
     "output_type": "stream",
     "text": [
      "(6928123, 4)\n",
      "CPU times: user 39.8 s, sys: 1.06 s, total: 40.8 s\n",
      "Wall time: 40.9 s\n"
     ]
    },
    {
     "data": {
      "text/html": [
       "<div>\n",
       "<style scoped>\n",
       "    .dataframe tbody tr th:only-of-type {\n",
       "        vertical-align: middle;\n",
       "    }\n",
       "\n",
       "    .dataframe tbody tr th {\n",
       "        vertical-align: top;\n",
       "    }\n",
       "\n",
       "    .dataframe thead th {\n",
       "        text-align: right;\n",
       "    }\n",
       "</style>\n",
       "<table border=\"1\" class=\"dataframe\">\n",
       "  <thead>\n",
       "    <tr style=\"text-align: right;\">\n",
       "      <th></th>\n",
       "      <th>session</th>\n",
       "      <th>ts</th>\n",
       "      <th>type</th>\n",
       "      <th>aid</th>\n",
       "    </tr>\n",
       "  </thead>\n",
       "  <tbody>\n",
       "    <tr>\n",
       "      <th>0</th>\n",
       "      <td>12899779</td>\n",
       "      <td>1661724000278</td>\n",
       "      <td>0</td>\n",
       "      <td>59625</td>\n",
       "    </tr>\n",
       "    <tr>\n",
       "      <th>1</th>\n",
       "      <td>12899780</td>\n",
       "      <td>1661724000378</td>\n",
       "      <td>0</td>\n",
       "      <td>1142000</td>\n",
       "    </tr>\n",
       "    <tr>\n",
       "      <th>2</th>\n",
       "      <td>12899780</td>\n",
       "      <td>1661724058352</td>\n",
       "      <td>0</td>\n",
       "      <td>582732</td>\n",
       "    </tr>\n",
       "  </tbody>\n",
       "</table>\n",
       "</div>"
      ],
      "text/plain": [
       "    session             ts  type      aid\n",
       "0  12899779  1661724000278     0    59625\n",
       "1  12899780  1661724000378     0  1142000\n",
       "2  12899780  1661724058352     0   582732"
      ]
     },
     "execution_count": 5,
     "metadata": {},
     "output_type": "execute_result"
    }
   ],
   "source": [
    "%%time\n",
    "# Test df preprocessing\n",
    "fn = 'data/test.jsonl'\n",
    "df_test = jsonl_to_df(fn, d_type2id)\n",
    "df_test.type = df_test.type.astype(np.uint8) \n",
    "print(df_test.shape) \n",
    "df_test.head(3)"
   ]
  },
  {
   "cell_type": "code",
   "execution_count": 7,
   "id": "57a3a899",
   "metadata": {},
   "outputs": [
    {
     "data": {
      "text/plain": [
       "(iinfo(min=-128, max=127, dtype=int8),\n",
       " iinfo(min=-32768, max=32767, dtype=int16),\n",
       " iinfo(min=-2147483648, max=2147483647, dtype=int32))"
      ]
     },
     "execution_count": 7,
     "metadata": {},
     "output_type": "execute_result"
    }
   ],
   "source": [
    "np.iinfo(np.int8), np.iinfo(np.int16), np.iinfo(np.int32)"
   ]
  },
  {
   "cell_type": "code",
   "execution_count": 8,
   "id": "28f8ce77",
   "metadata": {},
   "outputs": [
    {
     "name": "stdout",
     "output_type": "stream",
     "text": [
      "1659304800025 1661723999984\n",
      "1661724000278 1662328791563\n"
     ]
    }
   ],
   "source": [
    "# Check ts range, and convert to int32\n",
    "print(df_train.ts.min(), df_train.ts.max())\n",
    "print(df_test.ts.min(), df_test.ts.max()) # Test set occurs right after train"
   ]
  },
  {
   "cell_type": "code",
   "execution_count": 11,
   "id": "fe0f2aaa",
   "metadata": {},
   "outputs": [
    {
     "name": "stdout",
     "output_type": "stream",
     "text": [
      "<class 'pandas.core.frame.DataFrame'>\n",
      "RangeIndex: 216716096 entries, 0 to 216716095\n",
      "Data columns (total 4 columns):\n",
      " #   Column   Dtype\n",
      "---  ------   -----\n",
      " 0   session  int64\n",
      " 1   ts       int64\n",
      " 2   type     uint8\n",
      " 3   aid      int64\n",
      "dtypes: int64(3), uint8(1)\n",
      "memory usage: 5.0 GB\n"
     ]
    }
   ],
   "source": [
    "df_train.info()"
   ]
  },
  {
   "cell_type": "code",
   "execution_count": 12,
   "id": "6557908e",
   "metadata": {},
   "outputs": [],
   "source": [
    "if int(max(df_train.ts.max(), df_train.ts.max())/1000) < np.iinfo(np.int32).max:\n",
    "    df_train.ts = (df_train.ts/1000).astype(np.int32)\n",
    "    df_test.ts = (df_test.ts/1000).astype(np.int32)"
   ]
  },
  {
   "cell_type": "code",
   "execution_count": 13,
   "id": "c0c2a8ff",
   "metadata": {},
   "outputs": [
    {
     "name": "stdout",
     "output_type": "stream",
     "text": [
      "0 1855602\n",
      "0 1855600\n"
     ]
    }
   ],
   "source": [
    "# Check aid range, and convert to int32\n",
    "print(df_train.aid.min(), df_train.aid.max())\n",
    "print(df_test.aid.min(), df_test.aid.max()) # Test set occurs right after train"
   ]
  },
  {
   "cell_type": "code",
   "execution_count": 14,
   "id": "bc2ac629",
   "metadata": {},
   "outputs": [],
   "source": [
    "if max(df_train.aid.max(), df_train.ts.max()) < np.iinfo(np.int32).max:\n",
    "    df_train.aid = df_train.aid.astype(np.int32)\n",
    "    df_test.aid = df_test.aid.astype(np.int32)"
   ]
  },
  {
   "cell_type": "code",
   "execution_count": 15,
   "id": "ec4aadcd",
   "metadata": {},
   "outputs": [
    {
     "data": {
      "text/html": [
       "<div>\n",
       "<style scoped>\n",
       "    .dataframe tbody tr th:only-of-type {\n",
       "        vertical-align: middle;\n",
       "    }\n",
       "\n",
       "    .dataframe tbody tr th {\n",
       "        vertical-align: top;\n",
       "    }\n",
       "\n",
       "    .dataframe thead th {\n",
       "        text-align: right;\n",
       "    }\n",
       "</style>\n",
       "<table border=\"1\" class=\"dataframe\">\n",
       "  <thead>\n",
       "    <tr style=\"text-align: right;\">\n",
       "      <th></th>\n",
       "      <th>session</th>\n",
       "      <th>ts</th>\n",
       "      <th>type</th>\n",
       "      <th>aid</th>\n",
       "    </tr>\n",
       "  </thead>\n",
       "  <tbody>\n",
       "    <tr>\n",
       "      <th>0</th>\n",
       "      <td>0</td>\n",
       "      <td>1659304800</td>\n",
       "      <td>0</td>\n",
       "      <td>1517085</td>\n",
       "    </tr>\n",
       "    <tr>\n",
       "      <th>1</th>\n",
       "      <td>0</td>\n",
       "      <td>1659304904</td>\n",
       "      <td>0</td>\n",
       "      <td>1563459</td>\n",
       "    </tr>\n",
       "    <tr>\n",
       "      <th>2</th>\n",
       "      <td>0</td>\n",
       "      <td>1659367439</td>\n",
       "      <td>0</td>\n",
       "      <td>1309446</td>\n",
       "    </tr>\n",
       "  </tbody>\n",
       "</table>\n",
       "</div>"
      ],
      "text/plain": [
       "   session          ts  type      aid\n",
       "0        0  1659304800     0  1517085\n",
       "1        0  1659304904     0  1563459\n",
       "2        0  1659367439     0  1309446"
      ]
     },
     "execution_count": 15,
     "metadata": {},
     "output_type": "execute_result"
    }
   ],
   "source": [
    "df_train.head(3)"
   ]
  },
  {
   "cell_type": "code",
   "execution_count": 16,
   "id": "85f1e7b2",
   "metadata": {},
   "outputs": [
    {
     "name": "stdout",
     "output_type": "stream",
     "text": [
      "<class 'pandas.core.frame.DataFrame'>\n",
      "RangeIndex: 216716096 entries, 0 to 216716095\n",
      "Data columns (total 4 columns):\n",
      " #   Column   Dtype\n",
      "---  ------   -----\n",
      " 0   session  int64\n",
      " 1   ts       int32\n",
      " 2   type     uint8\n",
      " 3   aid      int32\n",
      "dtypes: int32(2), int64(1), uint8(1)\n",
      "memory usage: 3.4 GB\n"
     ]
    }
   ],
   "source": [
    "df_train.info()"
   ]
  },
  {
   "cell_type": "code",
   "execution_count": 17,
   "id": "d40201f6",
   "metadata": {},
   "outputs": [
    {
     "data": {
      "text/html": [
       "<div>\n",
       "<style scoped>\n",
       "    .dataframe tbody tr th:only-of-type {\n",
       "        vertical-align: middle;\n",
       "    }\n",
       "\n",
       "    .dataframe tbody tr th {\n",
       "        vertical-align: top;\n",
       "    }\n",
       "\n",
       "    .dataframe thead th {\n",
       "        text-align: right;\n",
       "    }\n",
       "</style>\n",
       "<table border=\"1\" class=\"dataframe\">\n",
       "  <thead>\n",
       "    <tr style=\"text-align: right;\">\n",
       "      <th></th>\n",
       "      <th>session</th>\n",
       "      <th>ts</th>\n",
       "      <th>type</th>\n",
       "      <th>aid</th>\n",
       "    </tr>\n",
       "  </thead>\n",
       "  <tbody>\n",
       "    <tr>\n",
       "      <th>0</th>\n",
       "      <td>12899779</td>\n",
       "      <td>1661724000</td>\n",
       "      <td>0</td>\n",
       "      <td>59625</td>\n",
       "    </tr>\n",
       "    <tr>\n",
       "      <th>1</th>\n",
       "      <td>12899780</td>\n",
       "      <td>1661724000</td>\n",
       "      <td>0</td>\n",
       "      <td>1142000</td>\n",
       "    </tr>\n",
       "    <tr>\n",
       "      <th>2</th>\n",
       "      <td>12899780</td>\n",
       "      <td>1661724058</td>\n",
       "      <td>0</td>\n",
       "      <td>582732</td>\n",
       "    </tr>\n",
       "  </tbody>\n",
       "</table>\n",
       "</div>"
      ],
      "text/plain": [
       "    session          ts  type      aid\n",
       "0  12899779  1661724000     0    59625\n",
       "1  12899780  1661724000     0  1142000\n",
       "2  12899780  1661724058     0   582732"
      ]
     },
     "execution_count": 17,
     "metadata": {},
     "output_type": "execute_result"
    }
   ],
   "source": [
    "df_test.head(3)"
   ]
  },
  {
   "cell_type": "code",
   "execution_count": 18,
   "id": "93a99604",
   "metadata": {},
   "outputs": [
    {
     "name": "stdout",
     "output_type": "stream",
     "text": [
      "<class 'pandas.core.frame.DataFrame'>\n",
      "RangeIndex: 6928123 entries, 0 to 6928122\n",
      "Data columns (total 4 columns):\n",
      " #   Column   Dtype\n",
      "---  ------   -----\n",
      " 0   session  int64\n",
      " 1   ts       int32\n",
      " 2   type     uint8\n",
      " 3   aid      int32\n",
      "dtypes: int32(2), int64(1), uint8(1)\n",
      "memory usage: 112.3 MB\n"
     ]
    }
   ],
   "source": [
    "df_test.info()"
   ]
  },
  {
   "cell_type": "code",
   "execution_count": 19,
   "id": "d7354f0e",
   "metadata": {},
   "outputs": [],
   "source": [
    "df_test.to_parquet('data/230313_df_test.pqt', index=False)\n",
    "df_train.to_parquet('data/230313_df_train.pqt', index=False)\n",
    "\n",
    "pd.to_pickle(d_type2id, 'data/d_type2id.pkl', protocol=4)\n",
    "pd.to_pickle(d_id2type, 'data/d_id2type.pkl', protocol=4)"
   ]
  },
  {
   "cell_type": "code",
   "execution_count": null,
   "id": "5e4a3efb",
   "metadata": {},
   "outputs": [],
   "source": []
  }
 ],
 "metadata": {
  "kernelspec": {
   "display_name": "Python 3 (ipykernel)",
   "language": "python",
   "name": "python3"
  },
  "language_info": {
   "codemirror_mode": {
    "name": "ipython",
    "version": 3
   },
   "file_extension": ".py",
   "mimetype": "text/x-python",
   "name": "python",
   "nbconvert_exporter": "python",
   "pygments_lexer": "ipython3",
   "version": "3.8.13"
  }
 },
 "nbformat": 4,
 "nbformat_minor": 5
}
